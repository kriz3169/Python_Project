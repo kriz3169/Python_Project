{
 "cells": [
  {
   "cell_type": "markdown",
   "id": "2cb15ee2",
   "metadata": {},
   "source": [
    "# SAMPLE PROGRAM"
   ]
  },
  {
   "cell_type": "code",
   "execution_count": 15,
   "id": "d6dfb43b",
   "metadata": {},
   "outputs": [
    {
     "name": "stdout",
     "output_type": "stream",
     "text": [
      "false\n"
     ]
    }
   ],
   "source": [
    "text = input(\"Enter your text: \")\n",
    "rev_txt = text[::-1]\n",
    "if text == rev_txt:\n",
    "    print(\"true\")\n",
    "else:\n",
    "    print(\"false\")    "
   ]
  },
  {
   "cell_type": "code",
   "execution_count": 24,
   "id": "a48a2852",
   "metadata": {},
   "outputs": [
    {
     "name": "stdout",
     "output_type": "stream",
     "text": [
      "a has ret b has ter\n",
      "welcome to ICT TVM\n"
     ]
    }
   ],
   "source": [
    "a=\"ret\"\n",
    "b=\"ter\"\n",
    "print(\"a has {} b has {}\".format(a,b))\n",
    "print(\"welcome to {institute} {location}\".format(institute=\"ICT\", location=\"TVM\"))\n"
   ]
  },
  {
   "cell_type": "code",
   "execution_count": 50,
   "id": "617b985c",
   "metadata": {},
   "outputs": [
    {
     "name": "stdout",
     "output_type": "stream",
     "text": [
      "[50, 40, 30, 20, 10]\n",
      "1\n",
      "5\n"
     ]
    }
   ],
   "source": [
    "items_1=[10,20,30]\n",
    "items_2=[40,50]\n",
    "items_3=items_1+items_2\n",
    "items_3.sort(reverse=True)\n",
    "print(items_3)\n",
    "print(items_3.count(20))\n",
    "print(\"asdfgrgfdasdgadgsdagdd\".count('g'))"
   ]
  },
  {
   "cell_type": "code",
   "execution_count": 54,
   "id": "0872540f",
   "metadata": {},
   "outputs": [
    {
     "name": "stdout",
     "output_type": "stream",
     "text": [
      "Welcome to ICT at TVM\n",
      "Welcome to:ICT:at TVM\n"
     ]
    }
   ],
   "source": [
    "messages =[\"Welcome to\", \"ICT\", \"at TVM\"]\n",
    "print(\" \".join(messages))\n",
    "print(\":\".join(messages))\n",
    "\n"
   ]
  },
  {
   "cell_type": "code",
   "execution_count": 65,
   "id": "36e78fbf",
   "metadata": {},
   "outputs": [
    {
     "name": "stdout",
     "output_type": "stream",
     "text": [
      "wELCOME\n",
      "WELCOME\n",
      "welcome\n",
      "Welcome\n"
     ]
    }
   ],
   "source": [
    "messages =\"Welcome\"\n",
    "print(messages.swapcase())\n",
    "print(messages.upper())\n",
    "print(messages.lower())\n",
    "print(messages.capitalize())\n"
   ]
  },
  {
   "cell_type": "code",
   "execution_count": null,
   "id": "92ad9029",
   "metadata": {},
   "outputs": [],
   "source": []
  },
  {
   "cell_type": "code",
   "execution_count": 81,
   "id": "4974a3fd",
   "metadata": {},
   "outputs": [
    {
     "name": "stdout",
     "output_type": "stream",
     "text": [
      "4.5\n",
      "7\n",
      "5\n",
      "8.0\n",
      "1\n",
      "0\n",
      "True\n",
      "False\n",
      "True\n",
      "False\n"
     ]
    }
   ],
   "source": [
    "print(float(\"4.5\"))\n",
    "print(int(\"7\"))\n",
    "print(int(5.635))\n",
    "print(float(\"8\"))\n",
    "print(int(True))\n",
    "print(int(False))\n",
    "print(str(True))\n",
    "print(bool(0))\n",
    "print(bool(\"hello world\"))\n",
    "print(bool())\n"
   ]
  },
  {
   "cell_type": "code",
   "execution_count": null,
   "id": "8a4e31f3",
   "metadata": {},
   "outputs": [],
   "source": []
  },
  {
   "cell_type": "code",
   "execution_count": 84,
   "id": "0868e6e2",
   "metadata": {},
   "outputs": [
    {
     "name": "stdout",
     "output_type": "stream",
     "text": [
      "Hello ! Welcome to python\n"
     ]
    }
   ],
   "source": [
    "def greet():\n",
    "    print(\"Hello ! Welcome to python\")\n",
    "greet()"
   ]
  },
  {
   "cell_type": "code",
   "execution_count": 108,
   "id": "e9314f36",
   "metadata": {},
   "outputs": [
    {
     "name": "stdout",
     "output_type": "stream",
     "text": [
      "72 48 720 5.0\n"
     ]
    }
   ],
   "source": [
    "a = int(input(\"Enter your first number: \"))\n",
    "b = int(input(\"Enter your second number: \"))\n",
    "def simple_arth(a,b):\n",
    "   return a+b,a-b, a*b,a/b\n",
    "var_sum, var_diff, var_mul, var_div = simple_arth(a,b)\n",
    "print(var_sum, var_diff, var_mul, var_div)\n"
   ]
  },
  {
   "cell_type": "code",
   "execution_count": 117,
   "id": "92f0ed3e",
   "metadata": {},
   "outputs": [
    {
     "name": "stdout",
     "output_type": "stream",
     "text": [
      "Mutiplication table of 7\n",
      "1 x 7 = 7\n",
      "2 x 7 = 14\n",
      "3 x 7 = 21\n",
      "4 x 7 = 28\n",
      "5 x 7 = 35\n",
      "6 x 7 = 42\n",
      "7 x 7 = 49\n",
      "8 x 7 = 56\n",
      "9 x 7 = 63\n",
      "10 x 7 = 70\n"
     ]
    }
   ],
   "source": [
    "\n",
    "def mult(a):\n",
    "    print(f\"Mutiplication table of {a}\")\n",
    "    for i in range(1,11):\n",
    "        print(f\"{i} x {a} = {i*a}\")\n",
    "a = int(input(\"Enter your number: \"))\n",
    "mult(a)\n"
   ]
  },
  {
   "cell_type": "code",
   "execution_count": 89,
   "id": "5c5b358d",
   "metadata": {},
   "outputs": [
    {
     "data": {
      "text/plain": [
       "2"
      ]
     },
     "execution_count": 89,
     "metadata": {},
     "output_type": "execute_result"
    }
   ],
   "source": [
    "def subtract(*args):\n",
    "   if not args:\n",
    "      return 0\n",
    "   result = args[0]\n",
    "   for num in args[1:]:\n",
    "      result-=num\n",
    "   return (result)\n",
    "subtract(12,3,7)"
   ]
  },
  {
   "cell_type": "markdown",
   "id": "2a66641a",
   "metadata": {},
   "source": [
    "# reAD WRITE"
   ]
  },
  {
   "cell_type": "code",
   "execution_count": 127,
   "id": "0414ee45",
   "metadata": {},
   "outputs": [],
   "source": [
    "with open(\"sample.txt\",\"w\") as f:\n",
    "    f.write(\"Hello KC\")"
   ]
  },
  {
   "cell_type": "code",
   "execution_count": 128,
   "id": "5b0d51e1",
   "metadata": {},
   "outputs": [
    {
     "name": "stdout",
     "output_type": "stream",
     "text": [
      "['Hello KC']\n"
     ]
    }
   ],
   "source": [
    "with open(\"sample.txt\",\"r\") as f:\n",
    "    data=f.readlines()\n",
    "print(data)"
   ]
  },
  {
   "cell_type": "code",
   "execution_count": null,
   "id": "32c9b51a",
   "metadata": {},
   "outputs": [
    {
     "name": "stdout",
     "output_type": "stream",
     "text": [
      "d:\\Project\\sample.txt\n"
     ]
    }
   ],
   "source": [
    "import os\n",
    "file_path=os.path.abspath(\"sample.txt\")\n",
    "print(file_path)\n",
    "os.remove(file_path)"
   ]
  },
  {
   "cell_type": "code",
   "execution_count": null,
   "id": "2a8613bb",
   "metadata": {},
   "outputs": [],
   "source": [
    "import os\n",
    "folder_path=r\"C:\\Users\\hp\\Downloads\"\n",
    "files=os.listdir(folder_path)\n",
    "for files in files:\n",
    "    print(files)"
   ]
  },
  {
   "cell_type": "code",
   "execution_count": null,
   "id": "3edb80d0",
   "metadata": {},
   "outputs": [],
   "source": [
    "import os\n",
    "import shutil\n",
    "folder_path=r\"C:\\Users\\hp\\Downloads\"\n",
    "files=os.listdir(folder_path)\n",
    "for files in files:\n",
    "    if \".exe\" in files:\n",
    "        target_folder=r\"C:\\Users\\hp\\Downloads\\EXE_FILES\"\n",
    "        os.makedirs(target_folder,exist_ok=True)\n",
    "        source_path = os.path.join(folder_path,files)\n",
    "        target_path = os.path.join(target_folder,files)\n",
    "        shutil.move(source_path,target_path)\n",
    "        print(files)"
   ]
  },
  {
   "cell_type": "code",
   "execution_count": null,
   "id": "787871d0",
   "metadata": {},
   "outputs": [],
   "source": [
    "import datetime\n",
    "print(datetime.datetime.now())"
   ]
  },
  {
   "cell_type": "code",
   "execution_count": null,
   "id": "c4aaec35",
   "metadata": {},
   "outputs": [],
   "source": [
    "import pandas as pd\n",
    "data=pd.read_csv(\"employees.csv\")\n",
    "data.sort_values(by=\"SALARY\",ascending=True)\n",
    "#data.columns.to_list()\n",
    "#data[[\"EMPLOYEE_ID\",\"HIRE_DATE\"]].to_csv(\"employee.csv\")"
   ]
  },
  {
   "cell_type": "code",
   "execution_count": null,
   "id": "0f024a76",
   "metadata": {},
   "outputs": [],
   "source": [
    "import pandas as pd\n",
    "data = pd.read_excel(\"airline.xls\")\n",
    "data.columns.to_list()\n",
    "data.sort_values(by=\"YEAR\",ascending=False)\n",
    "#data[[\"YEAR\",\"K\"]].to_csv(\"air_1.xlsx\")"
   ]
  },
  {
   "cell_type": "code",
   "execution_count": 177,
   "id": "b1862c51",
   "metadata": {},
   "outputs": [],
   "source": [
    "data.iloc[:3,1:3].to_excel(\"data_part.xlsx\",sheet_name=\"1\")"
   ]
  },
  {
   "cell_type": "code",
   "execution_count": 182,
   "id": "d96ff480",
   "metadata": {},
   "outputs": [],
   "source": [
    "with pd.ExcelWriter(\"output.xlsx\") as writer:\n",
    "    data.describe().to_excel(writer, sheet_name=\"summary\")\n",
    "    data.iloc[:3,1:3].to_excel(writer,sheet_name=\"1\")\n"
   ]
  },
  {
   "cell_type": "code",
   "execution_count": 10,
   "id": "f3189c2e",
   "metadata": {},
   "outputs": [],
   "source": [
    "import os\n",
    "import pandas as pd\n",
    "folder_path=r\"C:\\Users\\hp\\Downloads\"\n",
    "files=os.listdir(folder_path)\n",
    "file_data=[]\n",
    "for files in files:\n",
    "    name,ext = os.path.splitext(files)\n",
    "    file_data.append({'File Name':name,'Extension':ext})\n",
    "    #print(file_data)\n",
    "    data = pd.DataFrame(file_data)\n",
    "    output_file = \"Files.xlsx\"\n",
    "    data.to_excel(output_file,index=False)\n",
    "            "
   ]
  },
  {
   "cell_type": "markdown",
   "id": "5ce4b2c5",
   "metadata": {},
   "source": [
    "# 23-04-2025"
   ]
  },
  {
   "cell_type": "markdown",
   "id": "455b9356",
   "metadata": {},
   "source": [
    "# File PAth"
   ]
  },
  {
   "cell_type": "code",
   "execution_count": null,
   "id": "cff875d5",
   "metadata": {},
   "outputs": [],
   "source": [
    "import os\n",
    "import pandas as pd\n",
    "file_path = os.path.join(\"data\",\"output.xlsx\")\n",
    "data = pd.read_excel(file_path)\n",
    "data"
   ]
  },
  {
   "cell_type": "code",
   "execution_count": null,
   "id": "43131ba0",
   "metadata": {},
   "outputs": [],
   "source": [
    "import os\n",
    "import shutil\n",
    "import pandas as pd\n",
    "# define file and folder path\n",
    "file_path = \"Files.xlsx\"\n",
    "folder_name=\"new_moved3\"\n",
    "#create the folder if it doesn't exist\n",
    "if not os.path.exists(folder_name):\n",
    "    os.makedirs(folder_name)\n",
    "#move the file to the new folder\n",
    "new_path = os.path.join(folder_name, os.path.basename(file_path))\n",
    "shutil.move(file_path,new_path)\n",
    "#print moved file and folder name\n",
    "print(f\"Moved'{file_path}' to '{new_path}'\")\n",
    "#read data of moved file\n",
    "data = pd.read_excel(new_path)\n",
    "print(data)"
   ]
  },
  {
   "cell_type": "code",
   "execution_count": null,
   "id": "f2bb1f3d",
   "metadata": {},
   "outputs": [],
   "source": [
    "!pip install matplotlib"
   ]
  },
  {
   "cell_type": "code",
   "execution_count": 69,
   "id": "7ed263ac",
   "metadata": {},
   "outputs": [
    {
     "data": {
      "image/png": "[encoded data removed]",
      "text/plain": [
       "<Figure size 640x480 with 1 Axes>"
      ]
     },
     "metadata": {},
     "output_type": "display_data"
    }
   ],
   "source": [
    "import matplotlib.pyplot as plt\n",
    "x = [0,1,2,3,4,5,6]\n",
    "y1 = [0,3,2,22,22,10,45]\n",
    "y2 = [1,7,5,4,3,8,10]\n",
    "#plt.xlim(1,4)\n",
    "#plt.ylim(0,22)\n",
    "plt.plot(x, y1, c=\"g\", label=\"Prsnt_loc\")\n",
    "plt.plot(x, y2, c=\"r\", label=\"Live_loc\")\n",
    "plt.xlabel(\"days\")\n",
    "plt.ylabel(\"counts\")\n",
    "plt.legend()\n",
    "plt.show()\n"
   ]
  },
  {
   "cell_type": "code",
   "execution_count": null,
   "id": "dfba15cd",
   "metadata": {},
   "outputs": [],
   "source": [
    "import matplotlib.pyplot as plt\n",
    "x = [\"mon\",\"tue\",\"wed\",\"thur\",\"sat\",\"sun\"]\n",
    "item_sales= [1,2,3,4,5,6]\n",
    "plt.bar(x,item_sales,label=\"item1\")\n",
    "plt.xlabel(\"Days\")\n",
    "plt.ylabel(\"Counts\")\n",
    "plt.savefig(\"bar_chart.png\", dpi=800)\n",
    "plt.show()\n"
   ]
  },
  {
   "cell_type": "code",
   "execution_count": 46,
   "id": "a4bf5cc8",
   "metadata": {},
   "outputs": [
    {
     "data": {
      "image/png": "[encoded data removed]",
      "text/plain": [
       "<Figure size 640x480 with 1 Axes>"
      ]
     },
     "metadata": {},
     "output_type": "display_data"
    }
   ],
   "source": [
    "import matplotlib.pyplot as plt\n",
    "cont=[\"Ind\",\"UK\",\"USA\",\"UAE\"]\n",
    "pop=[123456,89078,56476,76543]\n",
    "plt.pie(pop, labels=cont, autopct=\"%1.2f%%\")\n",
    "plt.show()\n"
   ]
  },
  {
   "cell_type": "code",
   "execution_count": 52,
   "id": "5b01661d",
   "metadata": {},
   "outputs": [
    {
     "data": {
      "image/png": "[encoded data removed]",
      "text/plain": [
       "<Figure size 1000x500 with 1 Axes>"
      ]
     },
     "metadata": {},
     "output_type": "display_data"
    }
   ],
   "source": [
    "import pandas as pd\n",
    "data = pd.read_csv(\"auto-mpg.csv\")\n",
    "plt.figure(figsize=(10,5))\n",
    "plt.scatter(data[\"weight\"],data[\"mpg\"],c=\"r\",marker=\"+\")\n",
    "plt.title(\"MPG vs Weight\")\n",
    "plt.xlabel(\"weight\")\n",
    "plt.ylabel(\"mpg\")\n",
    "plt.show()\n"
   ]
  },
  {
   "cell_type": "code",
   "execution_count": null,
   "id": "0a37625d",
   "metadata": {},
   "outputs": [],
   "source": [
    "!pip install folium"
   ]
  },
  {
   "cell_type": "code",
   "execution_count": 64,
   "id": "be398093",
   "metadata": {},
   "outputs": [
    {
     "data": {
      "text/html": [
       "<div style=\"width:100%;\"><div style=\"position:relative;width:100%;height:0;padding-bottom:60%;\"><span style=\"color:#565656\">Make this Notebook Trusted to load map: File -> Trust Notebook</span><iframe srcdoc=\"&lt;!DOCTYPE html&gt;\n",
       "&lt;html&gt;\n",
       "&lt;head&gt;\n",
       "    \n",
       "    &lt;meta http-equiv=&quot;content-type&quot; content=&quot;text/html; charset=UTF-8&quot; /&gt;\n",
       "    \n",
       "        &lt;script&gt;\n",
       "            L_NO_TOUCH = false;\n",
       "            L_DISABLE_3D = false;\n",
       "        &lt;/script&gt;\n",
       "    \n",
       "    &lt;style&gt;html, body {width: 100%;height: 100%;margin: 0;padding: 0;}&lt;/style&gt;\n",
       "    &lt;style&gt;#map {position:absolute;top:0;bottom:0;right:0;left:0;}&lt;/style&gt;\n",
       "    &lt;script src=&quot;https://cdn.jsdelivr.net/npm/leaflet@1.9.3/dist/leaflet.js&quot;&gt;&lt;/script&gt;\n",
       "    &lt;script src=&quot;https://code.jquery.com/jquery-3.7.1.min.js&quot;&gt;&lt;/script&gt;\n",
       "    &lt;script src=&quot;https://cdn.jsdelivr.net/npm/bootstrap@5.2.2/dist/js/bootstrap.bundle.min.js&quot;&gt;&lt;/script&gt;\n",
       "    &lt;script src=&quot;https://cdnjs.cloudflare.com/ajax/libs/Leaflet.awesome-markers/2.0.2/leaflet.awesome-markers.js&quot;&gt;&lt;/script&gt;\n",
       "    &lt;link rel=&quot;stylesheet&quot; href=&quot;https://cdn.jsdelivr.net/npm/leaflet@1.9.3/dist/leaflet.css&quot;/&gt;\n",
       "    &lt;link rel=&quot;stylesheet&quot; href=&quot;https://cdn.jsdelivr.net/npm/bootstrap@5.2.2/dist/css/bootstrap.min.css&quot;/&gt;\n",
       "    &lt;link rel=&quot;stylesheet&quot; href=&quot;https://netdna.bootstrapcdn.com/bootstrap/3.0.0/css/bootstrap-glyphicons.css&quot;/&gt;\n",
       "    &lt;link rel=&quot;stylesheet&quot; href=&quot;https://cdn.jsdelivr.net/npm/@fortawesome/fontawesome-free@6.2.0/css/all.min.css&quot;/&gt;\n",
       "    &lt;link rel=&quot;stylesheet&quot; href=&quot;https://cdnjs.cloudflare.com/ajax/libs/Leaflet.awesome-markers/2.0.2/leaflet.awesome-markers.css&quot;/&gt;\n",
       "    &lt;link rel=&quot;stylesheet&quot; href=&quot;https://cdn.jsdelivr.net/gh/python-visualization/folium/folium/templates/leaflet.awesome.rotate.min.css&quot;/&gt;\n",
       "    \n",
       "            &lt;meta name=&quot;viewport&quot; content=&quot;width=device-width,\n",
       "                initial-scale=1.0, maximum-scale=1.0, user-scalable=no&quot; /&gt;\n",
       "            &lt;style&gt;\n",
       "                #map_ef1953320f232987cf7f6a4b7ae29f10 {\n",
       "                    position: relative;\n",
       "                    width: 100.0%;\n",
       "                    height: 100.0%;\n",
       "                    left: 0.0%;\n",
       "                    top: 0.0%;\n",
       "                }\n",
       "                .leaflet-container { font-size: 1rem; }\n",
       "            &lt;/style&gt;\n",
       "        \n",
       "&lt;/head&gt;\n",
       "&lt;body&gt;\n",
       "    \n",
       "    \n",
       "            &lt;div class=&quot;folium-map&quot; id=&quot;map_ef1953320f232987cf7f6a4b7ae29f10&quot; &gt;&lt;/div&gt;\n",
       "        \n",
       "&lt;/body&gt;\n",
       "&lt;script&gt;\n",
       "    \n",
       "    \n",
       "            var map_ef1953320f232987cf7f6a4b7ae29f10 = L.map(\n",
       "                &quot;map_ef1953320f232987cf7f6a4b7ae29f10&quot;,\n",
       "                {\n",
       "                    center: [8.547027, 76.880553],\n",
       "                    crs: L.CRS.EPSG3857,\n",
       "                    ...{\n",
       "  &quot;zoom&quot;: 10,\n",
       "  &quot;zoomControl&quot;: true,\n",
       "  &quot;preferCanvas&quot;: false,\n",
       "}\n",
       "\n",
       "                }\n",
       "            );\n",
       "\n",
       "            \n",
       "\n",
       "        \n",
       "    \n",
       "            var tile_layer_c9bd6837a00e522fb9f204329b7d11c1 = L.tileLayer(\n",
       "                &quot;https://tile.openstreetmap.org/{z}/{x}/{y}.png&quot;,\n",
       "                {\n",
       "  &quot;minZoom&quot;: 0,\n",
       "  &quot;maxZoom&quot;: 19,\n",
       "  &quot;maxNativeZoom&quot;: 19,\n",
       "  &quot;noWrap&quot;: false,\n",
       "  &quot;attribution&quot;: &quot;\\u0026copy; \\u003ca href=\\&quot;https://www.openstreetmap.org/copyright\\&quot;\\u003eOpenStreetMap\\u003c/a\\u003e contributors&quot;,\n",
       "  &quot;subdomains&quot;: &quot;abc&quot;,\n",
       "  &quot;detectRetina&quot;: false,\n",
       "  &quot;tms&quot;: false,\n",
       "  &quot;opacity&quot;: 1,\n",
       "}\n",
       "\n",
       "            );\n",
       "        \n",
       "    \n",
       "            tile_layer_c9bd6837a00e522fb9f204329b7d11c1.addTo(map_ef1953320f232987cf7f6a4b7ae29f10);\n",
       "        \n",
       "    \n",
       "            var marker_9a7cbbcd6048abf0db22d2dbfb7aa699 = L.marker(\n",
       "                [8.547027, 76.880553],\n",
       "                {\n",
       "}\n",
       "            ).addTo(map_ef1953320f232987cf7f6a4b7ae29f10);\n",
       "        \n",
       "    \n",
       "        var popup_1a27719a60231a1dd4066290113996e1 = L.popup({\n",
       "  &quot;maxWidth&quot;: &quot;100%&quot;,\n",
       "});\n",
       "\n",
       "        \n",
       "            \n",
       "                var html_dda8eccd2f0b1d227d6f6a3134a3dcc6 = $(`&lt;div id=&quot;html_dda8eccd2f0b1d227d6f6a3134a3dcc6&quot; style=&quot;width: 100.0%; height: 100.0%;&quot;&gt;me&lt;/div&gt;`)[0];\n",
       "                popup_1a27719a60231a1dd4066290113996e1.setContent(html_dda8eccd2f0b1d227d6f6a3134a3dcc6);\n",
       "            \n",
       "        \n",
       "\n",
       "        marker_9a7cbbcd6048abf0db22d2dbfb7aa699.bindPopup(popup_1a27719a60231a1dd4066290113996e1)\n",
       "        ;\n",
       "\n",
       "        \n",
       "    \n",
       "&lt;/script&gt;\n",
       "&lt;/html&gt;\" style=\"position:absolute;width:100%;height:100%;left:0;top:0;border:none !important;\" allowfullscreen webkitallowfullscreen mozallowfullscreen></iframe></div></div>"
      ],
      "text/plain": [
       "<folium.folium.Map at 0x17efcaf5c50>"
      ]
     },
     "execution_count": 64,
     "metadata": {},
     "output_type": "execute_result"
    }
   ],
   "source": [
    "import folium\n",
    "\n",
    "latitude = 8.547027 \n",
    "longitude = 76.880553\n",
    "my_map = folium.Map(location=[latitude,longitude],zoom_start=10)\n",
    "folium.Marker([latitude,longitude],popup=\"me\").add_to(my_map)\n",
    "my_map"
   ]
  },
  {
   "cell_type": "code",
   "execution_count": 65,
   "id": "b7167459",
   "metadata": {},
   "outputs": [
    {
     "name": "stdout",
     "output_type": "stream",
     "text": [
      "Collecting seaborn\n",
      "  Downloading seaborn-0.13.2-py3-none-any.whl.metadata (5.4 kB)\n",
      "Requirement already satisfied: numpy!=1.24.0,>=1.20 in c:\\users\\hp\\appdata\\local\\programs\\python\\python313\\lib\\site-packages (from seaborn) (2.2.5)\n",
      "Requirement already satisfied: pandas>=1.2 in c:\\users\\hp\\appdata\\local\\programs\\python\\python313\\lib\\site-packages (from seaborn) (2.2.3)\n",
      "Requirement already satisfied: matplotlib!=3.6.1,>=3.4 in c:\\users\\hp\\appdata\\local\\programs\\python\\python313\\lib\\site-packages (from seaborn) (3.10.1)\n",
      "Requirement already satisfied: contourpy>=1.0.1 in c:\\users\\hp\\appdata\\local\\programs\\python\\python313\\lib\\site-packages (from matplotlib!=3.6.1,>=3.4->seaborn) (1.3.2)\n",
      "Requirement already satisfied: cycler>=0.10 in c:\\users\\hp\\appdata\\local\\programs\\python\\python313\\lib\\site-packages (from matplotlib!=3.6.1,>=3.4->seaborn) (0.12.1)\n",
      "Requirement already satisfied: fonttools>=4.22.0 in c:\\users\\hp\\appdata\\local\\programs\\python\\python313\\lib\\site-packages (from matplotlib!=3.6.1,>=3.4->seaborn) (4.57.0)\n",
      "Requirement already satisfied: kiwisolver>=1.3.1 in c:\\users\\hp\\appdata\\local\\programs\\python\\python313\\lib\\site-packages (from matplotlib!=3.6.1,>=3.4->seaborn) (1.4.8)\n",
      "Requirement already satisfied: packaging>=20.0 in c:\\users\\hp\\appdata\\local\\programs\\python\\python313\\lib\\site-packages (from matplotlib!=3.6.1,>=3.4->seaborn) (25.0)\n",
      "Requirement already satisfied: pillow>=8 in c:\\users\\hp\\appdata\\local\\programs\\python\\python313\\lib\\site-packages (from matplotlib!=3.6.1,>=3.4->seaborn) (11.2.1)\n",
      "Requirement already satisfied: pyparsing>=2.3.1 in c:\\users\\hp\\appdata\\local\\programs\\python\\python313\\lib\\site-packages (from matplotlib!=3.6.1,>=3.4->seaborn) (3.2.3)\n",
      "Requirement already satisfied: python-dateutil>=2.7 in c:\\users\\hp\\appdata\\local\\programs\\python\\python313\\lib\\site-packages (from matplotlib!=3.6.1,>=3.4->seaborn) (2.9.0.post0)\n",
      "Requirement already satisfied: pytz>=2020.1 in c:\\users\\hp\\appdata\\local\\programs\\python\\python313\\lib\\site-packages (from pandas>=1.2->seaborn) (2025.2)\n",
      "Requirement already satisfied: tzdata>=2022.7 in c:\\users\\hp\\appdata\\local\\programs\\python\\python313\\lib\\site-packages (from pandas>=1.2->seaborn) (2025.2)\n",
      "Requirement already satisfied: six>=1.5 in c:\\users\\hp\\appdata\\local\\programs\\python\\python313\\lib\\site-packages (from python-dateutil>=2.7->matplotlib!=3.6.1,>=3.4->seaborn) (1.17.0)\n",
      "Downloading seaborn-0.13.2-py3-none-any.whl (294 kB)\n",
      "Installing collected packages: seaborn\n",
      "Successfully installed seaborn-0.13.2\n"
     ]
    }
   ],
   "source": [
    "!pip install seaborn"
   ]
  },
  {
   "cell_type": "code",
   "execution_count": 68,
   "id": "0a73ab56",
   "metadata": {},
   "outputs": [
    {
     "data": {
      "text/plain": [
       "<Axes: >"
      ]
     },
     "execution_count": 68,
     "metadata": {},
     "output_type": "execute_result"
    },
    {
     "data": {
      "image/png": "[encoded data removed]",
      "text/plain": [
       "<Figure size 640x480 with 2 Axes>"
      ]
     },
     "metadata": {},
     "output_type": "display_data"
    }
   ],
   "source": [
    "import numpy as np\n",
    "import seaborn as sns\n",
    "heat_data = np.array([[0, 0.4, 1], [1, 0.4, 0]])\n",
    "sns.heatmap(heat_data)"
   ]
  },
  {
   "cell_type": "code",
   "execution_count": null,
   "id": "9a37ee61",
   "metadata": {},
   "outputs": [],
   "source": [
    "import os\n",
    "\n",
    "with open(\"my_name.txt\",\"w\") as file:\n",
    "    file.write(\"Krishna Chandran R \\n SSB HQrs \\n Pattom\")"
   ]
  },
  {
   "cell_type": "code",
   "execution_count": 89,
   "id": "9fcecf0e",
   "metadata": {},
   "outputs": [],
   "source": [
    "import os\n",
    "import pandas as pd\n",
    "folder_path=r\"C:\\Users\\hp\\Downloads\"\n",
    "files=sorted(os.listdir(folder_path),reverse=True)\n",
    "file_data=[]\n",
    "for files in files:\n",
    "    name,ext= os.path.splitext(files)\n",
    "    file_data.append({'File Name':name,'Extension':ext})\n",
    "    data = pd.DataFrame(file_data)\n",
    "    output_file = \"Files.xlsx\"\n",
    "    data.to_excel(output_file,index=False)"
   ]
  },
  {
   "cell_type": "code",
   "execution_count": 87,
   "id": "2c82935a",
   "metadata": {},
   "outputs": [
    {
     "name": "stdout",
     "output_type": "stream",
     "text": [
      "Car Name is : hi 1200d\n"
     ]
    }
   ],
   "source": [
    "import pandas as pd\n",
    "data = pd.read_csv(\"auto-mpg.csv\")\n",
    "min_value=data.loc[data['mpg'].idxmin()]\n",
    "print(f\"Car Name is : {min_value['car name']}\")"
   ]
  },
  {
   "cell_type": "code",
   "execution_count": null,
   "id": "1da60f6c",
   "metadata": {},
   "outputs": [
    {
     "name": "stdout",
     "output_type": "stream",
     "text": [
      "Car Name of lowest mpg in 1982 is :\n",
      "ford granada l\n"
     ]
    }
   ],
   "source": [
    "import pandas as pd\n",
    "#load csv\n",
    "data = pd.read_csv(\"auto-mpg.csv\")\n",
    "#filter cars of 1982\n",
    "data_82 = data[data['model year'] == 82]\n",
    "#find lowest mpg in 82\n",
    "min_mpg = data_82['mpg'].min()\n",
    "#filter rows with lowest mpg\n",
    "lowest_mpg_cars = data_82[data_82['mpg'] == min_mpg]\n",
    "#print the results\n",
    "print(f\"Car Name of lowest mpg in 1982 is :\")\n",
    "for name in lowest_mpg_cars['car name']:\n",
    "    print(name)"
   ]
  },
  {
   "cell_type": "code",
   "execution_count": 7,
   "id": "fb1951aa",
   "metadata": {},
   "outputs": [
    {
     "name": "stdout",
     "output_type": "stream",
     "text": [
      "Map saved as kerala_thefts_map.html\n"
     ]
    }
   ],
   "source": [
    "import pandas as pd\n",
    "import folium\n",
    "\n",
    "# Load your CSV data\n",
    "crime_data = pd.read_csv('kerala_crime_dummy_data.csv') \n",
    "theft_data = crime_data[crime_data['Crime_Type'] == \"Theft\"]\n",
    "# Create a map centered on Kerala\n",
    "kerala_map = folium.Map(location=[10.8505, 76.2711], zoom_start=7)\n",
    "# Add markers for each theft\n",
    "for index, theft in theft_data.iterrows():\n",
    "    folium.Marker(\n",
    "        location=[theft['Latitude'], theft['Longitude']],\n",
    "        popup=f\"{theft['Location']} ({theft['Date']})\",\n",
    "        icon=folium.Icon(color='red', icon='exclamation-sign')\n",
    "    ).add_to(kerala_map)\n",
    "\n",
    "# Save map to HTML file\n",
    "kerala_map.save('kerala_thefts_map.html')\n",
    "print(\"Map saved as kerala_thefts_map.html\")"
   ]
  },
  {
   "cell_type": "markdown",
   "id": "1574bf14",
   "metadata": {},
   "source": [
    "# 24-04-2025"
   ]
  },
  {
   "cell_type": "code",
   "execution_count": 16,
   "id": "4fe4c3da",
   "metadata": {},
   "outputs": [
    {
     "name": "stdout",
     "output_type": "stream",
     "text": [
      "a b\n",
      "45 67\n",
      "1 2\n"
     ]
    }
   ],
   "source": [
    "class student:\n",
    "    def __init__(self, x, y, z):\n",
    "        self.name = x\n",
    "        self.age = y\n",
    "        self.roll= z\n",
    "    \n",
    "p1 = student(\"a\", 45, 1)\n",
    "p2 = student(\"b\", 67, 2)\n",
    "#p3 = student(\"c\", 34)\n",
    "#p4 = student(\"d\", 23)\n",
    "\n",
    "print(p1.name, p2.name)\n",
    "print(p1.age, p2.age)\n",
    "print(p1.roll, p2.roll)\n"
   ]
  },
  {
   "cell_type": "code",
   "execution_count": 36,
   "id": "f15b51f2",
   "metadata": {},
   "outputs": [
    {
     "name": "stdout",
     "output_type": "stream",
     "text": [
      "Hi my name is KC\n",
      "My age is 12\n"
     ]
    }
   ],
   "source": [
    "class student:\n",
    "    def __init__(self, name, age):\n",
    "        self.name = name\n",
    "        self.age = age\n",
    "\n",
    "    def say_name(self):\n",
    "        print(\"Hi my name is\" , self.name)\n",
    "\n",
    "    def get_age(self):\n",
    "        print(\"My age is\" , self.age)\n",
    "\n",
    "p1 = student(\"KC\", 12)\n",
    "p1.say_name()\n",
    "p1.get_age()\n"
   ]
  },
  {
   "cell_type": "code",
   "execution_count": 33,
   "id": "db1908e4",
   "metadata": {},
   "outputs": [
    {
     "name": "stdout",
     "output_type": "stream",
     "text": [
      "Buddy\n",
      "Woof!\n",
      "sheperd\n",
      "Moves tails\n",
      "Whiskers\n",
      "Meaw!!\n",
      "nadan\n",
      "Moves ears\n"
     ]
    }
   ],
   "source": [
    "class Animal:\n",
    "    def __init__(self, name, age, sound, breed):\n",
    "        self.name = name\n",
    "        self.age = age\n",
    "        self.sound = sound\n",
    "        self.breed = breed\n",
    "\n",
    "    def make_sound(self):\n",
    "        print(self.name)\n",
    "        print(self.sound)\n",
    "        print(self.breed)\n",
    "\n",
    "\n",
    "class Dog(Animal):\n",
    "    def __init__(self, name, age, sound,breed):\n",
    "        super().__init__(name, age, sound, breed)\n",
    "\n",
    "    def action(self):\n",
    "        print(\"Moves tails\")\n",
    "\n",
    "\n",
    "class Cat(Animal):\n",
    "    def __init__(self, name, age, sound,breed):\n",
    "        super().__init__(name, age, sound, breed)\n",
    "\n",
    "    def action(self):\n",
    "        print(\"Moves ears\")\n",
    "#define dog and cat\n",
    "my_dog = Dog(\"Buddy\", 3, \"Woof!\", \"sheperd\")\n",
    "my_dog.make_sound()\n",
    "my_dog.action()\n",
    "my_cat = Cat(\"Whiskers\", 2, \"Meaw!!\", \"nadan\")\n",
    "my_cat.make_sound()\n",
    "my_cat.action()"
   ]
  },
  {
   "cell_type": "code",
   "execution_count": 38,
   "id": "84b5d87d",
   "metadata": {},
   "outputs": [
    {
     "name": "stdout",
     "output_type": "stream",
     "text": [
      "Flies in sky\n"
     ]
    }
   ],
   "source": [
    "\n",
    "class Bird(Animal):\n",
    "    def __init__(self, name, age, sound):\n",
    "        super().__init__(name, age, sound)\n",
    "\n",
    "    def fly(self):\n",
    "        print(\"Flies in sky\")\n",
    "        \n",
    "my_bird = Bird(\"test\",12, 'coos')\n",
    "my_bird.fly()"
   ]
  }
 ],
 "metadata": {
  "kernelspec": {
   "display_name": "Python 3",
   "language": "python",
   "name": "python3"
  },
  "language_info": {
   "codemirror_mode": {
    "name": "ipython",
    "version": 3
   },
   "file_extension": ".py",
   "mimetype": "text/x-python",
   "name": "python",
   "nbconvert_exporter": "python",
   "pygments_lexer": "ipython3",
   "version": "3.13.3"
  }
 },
 "nbformat": 4,
 "nbformat_minor": 5
}
